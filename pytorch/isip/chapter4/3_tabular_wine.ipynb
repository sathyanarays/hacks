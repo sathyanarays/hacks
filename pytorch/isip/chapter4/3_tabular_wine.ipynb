{
 "cells": [
  {
   "cell_type": "code",
   "execution_count": null,
   "metadata": {},
   "outputs": [],
   "source": [
    "import csv\n",
    "import numpy as np\n",
    "wine_path = \"../../../../dlwpt-code/data/p1ch4/tabular-wine/winequality-white.csv\"\n",
    "wineeq_numpy = np"
   ]
  }
 ],
 "metadata": {
  "language_info": {
   "name": "python"
  }
 },
 "nbformat": 4,
 "nbformat_minor": 2
}
